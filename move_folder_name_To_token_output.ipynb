{
 "cells": [
  {
   "cell_type": "code",
   "execution_count": 1,
   "metadata": {},
   "outputs": [
    {
     "name": "stdout",
     "output_type": "stream",
     "text": [
      "Folder names have been written to E:\\codes\\sumit\\SEM_PROJ_4\\Token_output\\Java____Direction.txt successfully.\n"
     ]
    }
   ],
   "source": [
    "import os"
   ]
  },
  {
   "cell_type": "code",
   "execution_count": null,
   "metadata": {},
   "outputs": [],
   "source": [
    "def list_folder_names(parent_folder_path, output_file):\n",
    "    folder_names = [name for name in os.listdir(parent_folder_path) if os.path.isdir(os.path.join(parent_folder_path, name))]\n",
    "    \n",
    "    with open(output_file, 'w', encoding='utf-8') as file:\n",
    "        for folder_name in folder_names:\n",
    "            file.write(f\"{folder_name}\\n\")\n"
   ]
  },
  {
   "cell_type": "code",
   "execution_count": null,
   "metadata": {},
   "outputs": [],
   "source": [
    "# Specify the parent folder path\n",
    "parent_folder_path = r\"E:\\codes\\sumit\\SEM_PROJ_4\\Mini_Project_CodeNet\\data\"\n",
    "\n",
    "# Define the path for the output text file\n",
    "output_file = r\"E:\\codes\\sumit\\SEM_PROJ_4\\Token_output\\Java____Direction.txt\"\n",
    "\n",
    "# Write the folder names to the file\n",
    "list_folder_names(parent_folder_path, output_file)\n",
    "\n",
    "print(f\"Folder names have been written to {output_file} successfully.\")\n"
   ]
  }
 ],
 "metadata": {
  "kernelspec": {
   "display_name": "myenv",
   "language": "python",
   "name": "python3"
  },
  "language_info": {
   "codemirror_mode": {
    "name": "ipython",
    "version": 3
   },
   "file_extension": ".py",
   "mimetype": "text/x-python",
   "name": "python",
   "nbconvert_exporter": "python",
   "pygments_lexer": "ipython3",
   "version": "3.12.8"
  }
 },
 "nbformat": 4,
 "nbformat_minor": 2
}
