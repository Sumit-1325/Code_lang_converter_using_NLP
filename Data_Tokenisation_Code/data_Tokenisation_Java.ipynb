{
 "cells": [
  {
   "cell_type": "code",
   "execution_count": 16,
   "metadata": {},
   "outputs": [],
   "source": [
    "import os\n",
    "import javalang "
   ]
  },
  {
   "cell_type": "code",
   "execution_count": 18,
   "metadata": {},
   "outputs": [],
   "source": [
    "def tokenize_java_file(filepath):\n",
    "    with open(filepath, 'r', encoding='utf-8') as file:\n",
    "        code = file.read()\n",
    "    \n",
    "    tokens = []\n",
    "    try:\n",
    "        tokens = list(javalang.tokenizer.tokenize(code))\n",
    "    except javalang.tokenizer.LexerError as e:\n",
    "        print(f\"LexerError: Could not process token in file {filepath}. Error: {e}\")\n",
    "    \n",
    "    return tokens"
   ]
  },
  {
   "cell_type": "code",
   "execution_count": 19,
   "metadata": {},
   "outputs": [],
   "source": [
    "def tokenize_files_in_folder(input_folder_path, output_folder_path):\n",
    "    if not os.path.exists(output_folder_path):\n",
    "        os.makedirs(output_folder_path)\n",
    "    \n",
    "    for filename in os.listdir(input_folder_path):\n",
    "        if filename.endswith('.java'):\n",
    "            filepath = os.path.join(input_folder_path, filename)\n",
    "            tokens = tokenize_java_file(filepath)\n",
    "            \n",
    "            # Save tokens to a new file\n",
    "            output_filepath = os.path.join(output_folder_path, f\"{filename}_tokens.txt\")\n",
    "            with open(output_filepath, 'w', encoding='utf-8') as output_file:\n",
    "                for token in tokens:\n",
    "                    output_file.write(f\"{token}\\n\")\n"
   ]
  },
  {
   "cell_type": "code",
   "execution_count": 25,
   "metadata": {},
   "outputs": [
    {
     "name": "stdout",
     "output_type": "stream",
     "text": [
      "Tokenized files are saved in: E:\\codes\\sumit\\SEM_PROJ_4\\Token_output\\java_tokenise_data\\java7\n"
     ]
    }
   ],
   "source": [
    "\n",
    "# Example usage:\n",
    "input_folder_path = r\"E:\\codes\\sumit\\SEM_PROJ_4\\Mini_Project_CodeNet\\data\\p04030\\Java\"\n",
    "output_folder_path = r\"E:\\codes\\sumit\\SEM_PROJ_4\\Token_output\\java_tokenise_data\\java7\"\n",
    "tokenize_files_in_folder(input_folder_path, output_folder_path)\n",
    "print(f\"Tokenized files are saved in: {output_folder_path}\")\n"
   ]
  },
  {
   "cell_type": "code",
   "execution_count": null,
   "metadata": {},
   "outputs": [],
   "source": []
  }
 ],
 "metadata": {
  "kernelspec": {
   "display_name": "myenv",
   "language": "python",
   "name": "python3"
  },
  "language_info": {
   "codemirror_mode": {
    "name": "ipython",
    "version": 3
   },
   "file_extension": ".py",
   "mimetype": "text/x-python",
   "name": "python",
   "nbconvert_exporter": "python",
   "pygments_lexer": "ipython3",
   "version": "3.12.8"
  }
 },
 "nbformat": 4,
 "nbformat_minor": 2
}
