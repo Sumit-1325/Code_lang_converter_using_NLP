{
 "cells": [
  {
   "cell_type": "code",
   "execution_count": 10,
   "metadata": {},
   "outputs": [
    {
     "name": "stdout",
     "output_type": "stream",
     "text": [
      "Tokenized files are saved in: E:\\codes\\sumit\\SEM_PROJ_4\\Token_output\\Python_tokenise_data\\python 7\n"
     ]
    }
   ],
   "source": [
    "import os\n",
    "from pygments import lex\n",
    "from pygments.lexers import PythonLexer\n",
    "from pygments.token import Token\n",
    "\n",
    "def tokenize_python_file(filepath):\n",
    "    with open(filepath, 'r', encoding='utf-8') as file:\n",
    "        code = file.read()\n",
    "    tokens = lex(code, PythonLexer())\n",
    "    token_list = []\n",
    "    for token in tokens:\n",
    "        token_type = token[0]\n",
    "        token_value = token[1]\n",
    "        # Skip whitespace tokens\n",
    "        if token_type not in Token.Text.Whitespace and token_value.strip():\n",
    "            token_list.append(f\"{token_value} ({token_type})\")\n",
    "    return token_list\n",
    "\n",
    "def tokenize_files_in_folder(input_folder_path, output_folder_path):\n",
    "    if not os.path.exists(output_folder_path):\n",
    "        os.makedirs(output_folder_path)\n",
    "\n",
    "    supported_extensions = ('.py',)\n",
    "\n",
    "    for filename in os.listdir(input_folder_path):\n",
    "        if filename.endswith(supported_extensions):\n",
    "            filepath = os.path.join(input_folder_path, filename)\n",
    "            tokens = tokenize_python_file(filepath)\n",
    "\n",
    "            if tokens:\n",
    "                output_filepath = os.path.join(output_folder_path, f\"{filename}_tokens.txt\")\n",
    "                with open(output_filepath, 'w', encoding='utf-8') as output_file:\n",
    "                    for token in tokens:\n",
    "                        output_file.write(f\"{token}\\n\")\n",
    "            else:\n",
    "                print(f\"No tokens generated for {filename}\")\n",
    "\n",
    "# Example usage:\n",
    "input_folder_path = r\"E:\\codes\\sumit\\SEM_PROJ_4\\Mini_Project_CodeNet\\data\\p04030\\Python\"\n",
    "output_folder_path = r\"E:\\codes\\sumit\\SEM_PROJ_4\\Token_output\\Python_tokenise_data\\python 7\"\n",
    "tokenize_files_in_folder(input_folder_path, output_folder_path)\n",
    "print(f\"Tokenized files are saved in: {output_folder_path}\")\n"
   ]
  },
  {
   "cell_type": "code",
   "execution_count": null,
   "metadata": {},
   "outputs": [],
   "source": []
  }
 ],
 "metadata": {
  "kernelspec": {
   "display_name": "myenv",
   "language": "python",
   "name": "python3"
  },
  "language_info": {
   "codemirror_mode": {
    "name": "ipython",
    "version": 3
   },
   "file_extension": ".py",
   "mimetype": "text/x-python",
   "name": "python",
   "nbconvert_exporter": "python",
   "pygments_lexer": "ipython3",
   "version": "3.12.8"
  }
 },
 "nbformat": 4,
 "nbformat_minor": 2
}
